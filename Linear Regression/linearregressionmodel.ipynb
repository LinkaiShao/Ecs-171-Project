{
 "cells": [
  {
   "cell_type": "code",
   "execution_count": 2,
   "metadata": {},
   "outputs": [
    {
     "name": "stdout",
     "output_type": "stream",
     "text": [
      "Cross-Validated Mean Squared Error (MSE): 11.934221843573777\n",
      "Mean Squared Error (MSE): 14.443667363778466\n",
      "R-squared (R²): 0.06578893998139157\n"
     ]
    }
   ],
   "source": [
    "import pandas as pd\n",
    "from sklearn.model_selection import train_test_split, cross_val_score\n",
    "from sklearn.linear_model import LinearRegression\n",
    "from sklearn.metrics import mean_squared_error, r2_score\n",
    "import numpy as np\n",
    "\n",
    "# Load the datasets\n",
    "student_mat = pd.read_csv('student-mat.csv', delimiter=';')\n",
    "student_por = pd.read_csv('student-por.csv', delimiter=';')\n",
    "\n",
    "# Combine the datasets\n",
    "student_data = pd.concat([student_mat, student_por], ignore_index=True)\n",
    "\n",
    "# Select relevant features and encode categorical variables\n",
    "features = ['failures', 'Medu', 'Fedu', 'higher', 'age', 'goout', 'romantic', 'traveltime']\n",
    "target = 'G3'\n",
    "\n",
    "# Encode categorical variables\n",
    "student_data['higher_yes'] = student_data['higher'].map({'yes': 1, 'no': 0})\n",
    "student_data['romantic_yes'] = student_data['romantic'].map({'yes': 1, 'no': 0})\n",
    "\n",
    "# Updated feature list with encoded columns\n",
    "selected_features = ['failures', 'Medu', 'Fedu', 'higher_yes', 'age', 'goout', 'romantic_yes', 'traveltime']\n",
    "\n",
    "# Filter dataset for modeling\n",
    "data = student_data[selected_features + [target]].dropna()\n",
    "\n",
    "# Split into features (X) and target (y)\n",
    "X = data[selected_features]\n",
    "y = data[target]\n",
    "\n",
    "# Split data into training and testing sets\n",
    "X_train, X_test, y_train, y_test = train_test_split(X, y, test_size=0.2, random_state=42)\n",
    "\n",
    "# Build and train the linear regression model\n",
    "model = LinearRegression()\n",
    "\n",
    "# Perform cross-validation\n",
    "cv_scores = cross_val_score(model, X_train, y_train, cv=5, scoring='neg_mean_squared_error')\n",
    "cv_mse = -np.mean(cv_scores)\n",
    "\n",
    "# Train the model on the full training set\n",
    "model.fit(X_train, y_train)\n",
    "\n",
    "# Make predictions\n",
    "y_pred = model.predict(X_test)\n",
    "\n",
    "# Evaluate the model\n",
    "mse = mean_squared_error(y_test, y_pred)\n",
    "r2 = r2_score(y_test, y_pred)\n",
    "\n",
    "print(\"Cross-Validated Mean Squared Error (MSE):\", cv_mse)\n",
    "print(\"Mean Squared Error (MSE):\", mse)\n",
    "print(\"R-squared (R²):\", r2)\n"
   ]
  }
 ],
 "metadata": {
  "kernelspec": {
   "display_name": "Python 3",
   "language": "python",
   "name": "python3"
  },
  "language_info": {
   "codemirror_mode": {
    "name": "ipython",
    "version": 3
   },
   "file_extension": ".py",
   "mimetype": "text/x-python",
   "name": "python",
   "nbconvert_exporter": "python",
   "pygments_lexer": "ipython3",
   "version": "3.13.0"
  }
 },
 "nbformat": 4,
 "nbformat_minor": 2
}
